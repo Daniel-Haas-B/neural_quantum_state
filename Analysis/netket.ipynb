{
 "cells": [
  {
   "cell_type": "code",
   "execution_count": 1,
   "metadata": {},
   "outputs": [],
   "source": [
    "import os\n",
    "os.environ[\"JAX_PLATFORM_NAME\"] = \"cpu\"\n",
    "import matplotlib.pyplot as plt\n",
    "import netket as nk\n",
    "import jax.numpy as jnp\n",
    "\n",
    "import flax\n",
    "import flax.linen as nn\n",
    "\n",
    "import plot_utils\n",
    "import seaborn as sns\n",
    "\n",
    "# set pallette to pastel \n",
    "\n",
    "sns.set_palette(\"pastel\")\n",
    "\n"
   ]
  },
  {
   "cell_type": "markdown",
   "metadata": {},
   "source": [
    "### Define the Hamiltonian"
   ]
  },
  {
   "cell_type": "code",
   "execution_count": 2,
   "metadata": {},
   "outputs": [],
   "source": [
    "N = 2\n",
    "def v(x):\n",
    "\n",
    "    return 0.5*jnp.linalg.norm(x) ** 2\n",
    "\n",
    "def minimum_distance(x, sdim): # sdim is the spatial dimension\n",
    "    \"\"\"Computes distances between particles using mimimum image convention\"\"\"\n",
    "    n_particles = x.shape[0] // sdim\n",
    "    x = x.reshape(-1, sdim)\n",
    "\n",
    "    distances = (-x[jnp.newaxis, :, :] + x[:, jnp.newaxis, :])[\n",
    "                    jnp.triu_indices(n_particles, 1)\n",
    "                ]\n",
    "\n",
    "    return jnp.linalg.norm(distances, axis=1)\n",
    "                \n",
    "def interaction(x, sdim):\n",
    "    \"\"\"Computes the potential energy of the system\"\"\"\n",
    "    dis = minimum_distance(x, sdim)\n",
    "\n",
    "    return jnp.sum(1/dis)"
   ]
  },
  {
   "cell_type": "markdown",
   "metadata": {},
   "source": [
    "# Define the hilbert space"
   ]
  },
  {
   "cell_type": "code",
   "execution_count": 3,
   "metadata": {},
   "outputs": [],
   "source": [
    "hilb = nk.hilbert.Particle(N=N, L=(jnp.inf,jnp.inf), pbc=False) # L = dimension, pcb is \n"
   ]
  },
  {
   "cell_type": "code",
   "execution_count": 4,
   "metadata": {},
   "outputs": [],
   "source": [
    "\n",
    "ekin = nk.operator.KineticEnergy(hilb, mass=1.0)\n",
    "\n",
    "pot = nk.operator.PotentialEnergy(hilb, v)\n",
    "\n",
    "interact = nk.operator.PotentialEnergy(hilb, lambda x: interaction(x, 2))\n",
    "\n",
    "ha = ekin + pot #+ interact"
   ]
  },
  {
   "cell_type": "code",
   "execution_count": 5,
   "metadata": {},
   "outputs": [],
   "source": [
    "class FFN(nn.Module):\n",
    "\n",
    "    # You can define attributes at the module-level\n",
    "    # with a default. This allows you to easily change\n",
    "    # some hyper-parameter without redefining the whole\n",
    "    # flax module. This is the ratio of neurons to input dofs\n",
    "    alpha: int = 1\n",
    "\n",
    "    @nn.compact\n",
    "    def __call__(self, x):\n",
    "\n",
    "        # here we construct the first dense layer using a\n",
    "        # pre-built implementation in flax.\n",
    "        # features is the number of output nodes\n",
    "        dense = nn.Dense(features=self.alpha * x.shape[-1], param_dtype=float)\n",
    "\n",
    "        # we apply the dense layer to the input\n",
    "        y = dense(x)\n",
    "\n",
    "        # the non-linearity is a simple ReLu\n",
    "        y = nn.relu(y)\n",
    "\n",
    "        # sum the output\n",
    "        return jnp.sum(y, axis=-1)"
   ]
  },
  {
   "cell_type": "markdown",
   "metadata": {},
   "source": [
    "### Define the sampler"
   ]
  },
  {
   "cell_type": "code",
   "execution_count": 58,
   "metadata": {},
   "outputs": [],
   "source": [
    "sampler_gaussian = nk.sampler.MetropolisGaussian(hilb, sigma=1, n_chains=16, n_sweeps=32) # sigma is the standard deviation of the gaussian that is used to sample the configuration space\n",
    "\n",
    "sampler_rbm = nk.sampler.MetropolisGaussian(hilb, sigma=1e-4, n_chains=16, n_sweeps=16)\n",
    "\n",
    "sampler_FFN = nk.sampler.MetropolisGaussian(hilb,  sigma=1, n_chains=16, n_sweeps=32)\n"
   ]
  },
  {
   "cell_type": "markdown",
   "metadata": {},
   "source": [
    "### Models"
   ]
  },
  {
   "cell_type": "code",
   "execution_count": 111,
   "metadata": {},
   "outputs": [],
   "source": [
    "model_gaussian = nk.models.Gaussian()\n",
    "vs_gaussian = nk.vqs.MCState(sampler_gaussian, model_gaussian, n_samples=10 ** 4, n_discard_per_chain=2000)\n",
    "\n",
    "model_rbm = nk.models.RBM(alpha=2)\n",
    "vs_rbm = nk.vqs.MCState(sampler_rbm, model_rbm, n_samples=10 ** 4, n_discard_per_chain=2000)\n",
    "\n",
    "model_ffn = FFN(alpha=2)\n",
    "vs_ffn = nk.vqs.MCState(sampler_FFN, model_ffn, n_samples=2**14, n_discard_per_chain=2000)\n",
    "\n",
    "#optimizer\n",
    "op_gaussian = nk.optimizer.Sgd(learning_rate=0.01)\n",
    "op_rbm = nk.optimizer.Sgd(learning_rate=1e-3)\n",
    "op_ffn = nk.optimizer.Sgd(learning_rate=0.01)\n",
    "\n",
    "#Preconditioner\n",
    "sr_gaussian = nk.optimizer.SR(diag_shift=0.01)\n",
    "sr_rbm = nk.optimizer.SR(diag_shift=0.4)\n",
    "sr_ffn = nk.optimizer.SR(diag_shift=0.01)"
   ]
  },
  {
   "cell_type": "code",
   "execution_count": 112,
   "metadata": {},
   "outputs": [
    {
     "name": "stderr",
     "output_type": "stream",
     "text": [
      "100%|██████████| 100/100 [00:18<00:00,  5.52it/s, Energy=2.034 ± 0.055 [σ²=1.544, R̂=1.4136]]\n"
     ]
    },
    {
     "data": {
      "text/plain": [
       "Text(0, 0.5, 'Energy')"
      ]
     },
     "execution_count": 112,
     "metadata": {},
     "output_type": "execute_result"
    },
    {
     "data": {
      "image/png": "[encoded data removed]",
      "text/plain": [
       "<Figure size 432x288 with 1 Axes>"
      ]
     },
     "metadata": {
      "needs_background": "light"
     },
     "output_type": "display_data"
    }
   ],
   "source": [
    "gs_gaussian = nk.VMC(ha, op_gaussian, sampler_gaussian, variational_state=vs_gaussian, preconditioner=sr_gaussian) # gs stands for ground state\n",
    "gs_rbm = nk.VMC(ha, op_rbm, sampler_rbm, variational_state=vs_rbm, preconditioner=sr_rbm)\n",
    "gs_ffn = nk.VMC(ha, op_ffn, sampler_FFN, variational_state=vs_ffn, preconditioner=sr_ffn)\n",
    "\n",
    "iters = 100\n",
    "\n",
    "# log=nk.logging.RuntimeLog()\n",
    "# gs_gaussian.run(n_iter=iters,out=log)\n",
    "#data_gaussian = log.data\n",
    "\n",
    "#log=nk.logging.RuntimeLog()\n",
    "#gs_rbm.run(n_iter=iters,out=log)\n",
    "#data_rbm = log.data\n",
    "\n",
    "log=nk.logging.RuntimeLog()\n",
    "gs_ffn.run(n_iter=iters,out=log)\n",
    "data_ffn = log.data\n",
    "\n",
    "#sns.lineplot(data=data_gaussian[\"Energy\"].iters, data=data_gaussian[\"Energy\"].Mean, yerr=data_gaussian[\"Energy\"].Sigma, label=\"Gaussian\")\n",
    "#sns.lineplot(data=data_rbm[\"Energy\"].iters, data=data_rbm[\"Energy\"].Mean, yerr=data_rbm[\"Energy\"].Sigma, label=\"RBM\")\n",
    "#sns.lineplot(data=data_ffn[\"Energy\"].iters, data=data_ffn[\"Energy\"].Mean, yerr=data_ffn[\"Energy\"].Sigma, label=\"FFN\")\n",
    "\n",
    "\n",
    "#plt.errorbar(data_gaussian[\"Energy\"].iters, data_gaussian[\"Energy\"].Mean, yerr=data_gaussian[\"Energy\"].Sigma, label=\"Gaussian\")\n",
    "plt.errorbar(data_rbm[\"Energy\"].iters, data_rbm[\"Energy\"].Mean, yerr=data_rbm[\"Energy\"].Sigma, label=\"RBM\")\n",
    "#plt.errorbar(data_ffn[\"Energy\"].iters, data_ffn[\"Energy\"].Mean, yerr=data_ffn[\"Energy\"].Sigma, label=\"FFN\")\n",
    "\n",
    "# make background white\n",
    "plt.rcParams['axes.facecolor'] = 'white'\n",
    "plt.rcParams['savefig.facecolor'] = 'white'\n",
    "\n",
    "# add grid\n",
    "plt.grid(color='grey', linestyle='-', linewidth=0.25, alpha=0.5)\n",
    "\n",
    "plt.hlines(2, xmin=0, xmax=iters, color='black', label=\"Exact\")\n",
    "plt.legend()\n",
    "\n",
    "plt.xlabel('Iterations')\n",
    "plt.ylabel('Energy')"
   ]
  },
  {
   "cell_type": "code",
   "execution_count": 19,
   "metadata": {},
   "outputs": [
    {
     "data": {
      "text/plain": [
       "{'Energy': History(\n",
       "    keys  = ['Mean', 'Variance', 'Sigma', 'R_hat', 'TauCorr'], \n",
       "    iters = [0, 1, ... 198, 199] (200 steps),\n",
       " )}"
      ]
     },
     "execution_count": 19,
     "metadata": {},
     "output_type": "execute_result"
    }
   ],
   "source": [
    "data_rbm"
   ]
  },
  {
   "cell_type": "code",
   "execution_count": null,
   "metadata": {},
   "outputs": [],
   "source": []
  }
 ],
 "metadata": {
  "kernelspec": {
   "display_name": "Python 3.10.2 64-bit ('3.10.2')",
   "language": "python",
   "name": "python3"
  },
  "language_info": {
   "codemirror_mode": {
    "name": "ipython",
    "version": 3
   },
   "file_extension": ".py",
   "mimetype": "text/x-python",
   "name": "python",
   "nbconvert_exporter": "python",
   "pygments_lexer": "ipython3",
   "version": "3.10.2"
  },
  "orig_nbformat": 4,
  "vscode": {
   "interpreter": {
    "hash": "725bbe29d1c18d191ac0c85feb075f75ad20654624becd29588183ed39edd8e6"
   }
  }
 },
 "nbformat": 4,
 "nbformat_minor": 2
}
